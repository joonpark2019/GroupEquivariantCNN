{
 "cells": [
  {
   "cell_type": "code",
   "execution_count": 41,
   "metadata": {},
   "outputs": [],
   "source": [
    "import os\n",
    "import torch\n",
    "import pandas as pd\n",
    "import skimage\n",
    "from skimage import io, transform\n",
    "import numpy as np\n",
    "import matplotlib.pyplot as plt\n",
    "from torch.utils.data import Dataset, DataLoader\n",
    "import scipy\n",
    "from torchvision import transforms, utils"
   ]
  },
  {
   "cell_type": "code",
   "execution_count": 42,
   "metadata": {},
   "outputs": [],
   "source": [
    "np.random.seed(19680801)"
   ]
  },
  {
   "cell_type": "code",
   "execution_count": 46,
   "metadata": {},
   "outputs": [
    {
     "name": "stdout",
     "output_type": "stream",
     "text": [
      "Collecting deeptrack\n",
      "  Using cached deeptrack-1.5.6-py3-none-any.whl (190 kB)\n",
      "Collecting tensorflow (from deeptrack)\n",
      "  Using cached tensorflow-2.13.0-cp39-cp39-macosx_10_15_x86_64.whl (216.2 MB)\n",
      "Requirement already satisfied: numpy in /Users/joonpark/anaconda3/envs/nica_research/lib/python3.9/site-packages (from deeptrack) (1.25.1)\n",
      "Requirement already satisfied: matplotlib in /Users/joonpark/anaconda3/envs/nica_research/lib/python3.9/site-packages (from deeptrack) (3.3.4)\n",
      "Requirement already satisfied: scipy in /Users/joonpark/anaconda3/envs/nica_research/lib/python3.9/site-packages (from deeptrack) (1.9.3)\n",
      "Collecting numpydoc (from deeptrack)\n",
      "  Using cached numpydoc-1.5.0-py3-none-any.whl (52 kB)\n",
      "Requirement already satisfied: scikit-image in /Users/joonpark/anaconda3/envs/nica_research/lib/python3.9/site-packages (from deeptrack) (0.19.3)\n",
      "Collecting tensorflow-probability (from deeptrack)\n",
      "  Using cached tensorflow_probability-0.20.1-py2.py3-none-any.whl (6.9 MB)\n",
      "Collecting tensorflow-datasets (from deeptrack)\n",
      "  Using cached tensorflow_datasets-4.9.2-py3-none-any.whl (5.4 MB)\n",
      "Requirement already satisfied: more-itertools in /Users/joonpark/anaconda3/envs/nica_research/lib/python3.9/site-packages (from deeptrack) (9.1.0)\n",
      "Collecting pint<0.20 (from deeptrack)\n",
      "  Using cached Pint-0.19.2.tar.gz (292 kB)\n",
      "  Installing build dependencies ... \u001b[?25ldone\n",
      "\u001b[?25h  Getting requirements to build wheel ... \u001b[?25ldone\n",
      "\u001b[?25h  Preparing metadata (pyproject.toml) ... \u001b[?25ldone\n",
      "\u001b[?25hRequirement already satisfied: pandas in /Users/joonpark/anaconda3/envs/nica_research/lib/python3.9/site-packages (from deeptrack) (2.0.3)\n",
      "Requirement already satisfied: tqdm in /Users/joonpark/anaconda3/envs/nica_research/lib/python3.9/site-packages (from deeptrack) (4.65.0)\n",
      "Collecting tensorflow-addons (from deeptrack)\n",
      "  Downloading tensorflow_addons-0.21.0-cp39-cp39-macosx_10_14_x86_64.whl (13.4 MB)\n",
      "\u001b[2K     \u001b[38;2;114;156;31m━━━━━━━━━━━━━━━━━━━━━━━━━━━━━━━━━━━━━━━━\u001b[0m \u001b[32m13.4/13.4 MB\u001b[0m \u001b[31m15.9 MB/s\u001b[0m eta \u001b[36m0:00:00\u001b[0mm eta \u001b[36m0:00:01\u001b[0m0:01\u001b[0m01\u001b[0m\n",
      "\u001b[?25hRequirement already satisfied: cycler>=0.10 in /Users/joonpark/anaconda3/envs/nica_research/lib/python3.9/site-packages (from matplotlib->deeptrack) (0.11.0)\n",
      "Requirement already satisfied: kiwisolver>=1.0.1 in /Users/joonpark/anaconda3/envs/nica_research/lib/python3.9/site-packages (from matplotlib->deeptrack) (1.4.4)\n",
      "Requirement already satisfied: pillow>=6.2.0 in /Users/joonpark/anaconda3/envs/nica_research/lib/python3.9/site-packages (from matplotlib->deeptrack) (9.4.0)\n",
      "Requirement already satisfied: pyparsing!=2.0.4,!=2.1.2,!=2.1.6,>=2.0.3 in /Users/joonpark/anaconda3/envs/nica_research/lib/python3.9/site-packages (from matplotlib->deeptrack) (3.0.9)\n",
      "Requirement already satisfied: python-dateutil>=2.1 in /Users/joonpark/anaconda3/envs/nica_research/lib/python3.9/site-packages (from matplotlib->deeptrack) (2.8.2)\n",
      "Collecting sphinx>=4.2 (from numpydoc->deeptrack)\n",
      "  Downloading sphinx-7.0.1-py3-none-any.whl (3.0 MB)\n",
      "\u001b[2K     \u001b[38;2;114;156;31m━━━━━━━━━━━━━━━━━━━━━━━━━━━━━━━━━━━━━━━━\u001b[0m \u001b[32m3.0/3.0 MB\u001b[0m \u001b[31m32.6 MB/s\u001b[0m eta \u001b[36m0:00:00\u001b[0mm eta \u001b[36m0:00:01\u001b[0m0:01\u001b[0m\n",
      "\u001b[?25hRequirement already satisfied: Jinja2>=2.10 in /Users/joonpark/anaconda3/envs/nica_research/lib/python3.9/site-packages (from numpydoc->deeptrack) (3.1.2)\n",
      "Requirement already satisfied: pytz>=2020.1 in /Users/joonpark/anaconda3/envs/nica_research/lib/python3.9/site-packages (from pandas->deeptrack) (2023.3)\n",
      "Requirement already satisfied: tzdata>=2022.1 in /Users/joonpark/anaconda3/envs/nica_research/lib/python3.9/site-packages (from pandas->deeptrack) (2023.3)\n",
      "Requirement already satisfied: networkx>=2.2 in /Users/joonpark/anaconda3/envs/nica_research/lib/python3.9/site-packages (from scikit-image->deeptrack) (2.8.4)\n",
      "Requirement already satisfied: imageio>=2.4.1 in /Users/joonpark/anaconda3/envs/nica_research/lib/python3.9/site-packages (from scikit-image->deeptrack) (2.31.1)\n",
      "Requirement already satisfied: tifffile>=2019.7.26 in /Users/joonpark/anaconda3/envs/nica_research/lib/python3.9/site-packages (from scikit-image->deeptrack) (2021.7.2)\n",
      "Requirement already satisfied: PyWavelets>=1.1.1 in /Users/joonpark/anaconda3/envs/nica_research/lib/python3.9/site-packages (from scikit-image->deeptrack) (1.4.1)\n",
      "Requirement already satisfied: packaging>=20.0 in /Users/joonpark/anaconda3/envs/nica_research/lib/python3.9/site-packages (from scikit-image->deeptrack) (23.1)\n",
      "Collecting absl-py>=1.0.0 (from tensorflow->deeptrack)\n",
      "  Using cached absl_py-1.4.0-py3-none-any.whl (126 kB)\n",
      "Collecting astunparse>=1.6.0 (from tensorflow->deeptrack)\n",
      "  Using cached astunparse-1.6.3-py2.py3-none-any.whl (12 kB)\n",
      "Collecting flatbuffers>=23.1.21 (from tensorflow->deeptrack)\n",
      "  Downloading flatbuffers-23.5.26-py2.py3-none-any.whl (26 kB)\n",
      "Collecting gast<=0.4.0,>=0.2.1 (from tensorflow->deeptrack)\n",
      "  Using cached gast-0.4.0-py3-none-any.whl (9.8 kB)\n",
      "Collecting google-pasta>=0.1.1 (from tensorflow->deeptrack)\n",
      "  Using cached google_pasta-0.2.0-py3-none-any.whl (57 kB)\n",
      "Requirement already satisfied: h5py>=2.9.0 in /Users/joonpark/anaconda3/envs/nica_research/lib/python3.9/site-packages (from tensorflow->deeptrack) (3.9.0)\n",
      "Collecting libclang>=13.0.0 (from tensorflow->deeptrack)\n",
      "  Downloading libclang-16.0.0-py2.py3-none-macosx_10_9_x86_64.whl (26.7 MB)\n",
      "\u001b[2K     \u001b[38;2;114;156;31m━━━━━━━━━━━━━━━━━━━━━━━━━━━━━━━━━━━━━━━━\u001b[0m \u001b[32m26.7/26.7 MB\u001b[0m \u001b[31m39.0 MB/s\u001b[0m eta \u001b[36m0:00:00\u001b[0mm eta \u001b[36m0:00:01\u001b[0m[36m0:00:01\u001b[0m\n",
      "\u001b[?25hCollecting numpy (from deeptrack)\n",
      "  Downloading numpy-1.24.3-cp39-cp39-macosx_10_9_x86_64.whl (19.8 MB)\n",
      "\u001b[2K     \u001b[38;2;114;156;31m━━━━━━━━━━━━━━━━━━━━━━━━━━━━━━━━━━━━━━━━\u001b[0m \u001b[32m19.8/19.8 MB\u001b[0m \u001b[31m35.0 MB/s\u001b[0m eta \u001b[36m0:00:00\u001b[0mm eta \u001b[36m0:00:01\u001b[0m0:01\u001b[0m:01\u001b[0m\n",
      "\u001b[?25hCollecting opt-einsum>=2.3.2 (from tensorflow->deeptrack)\n",
      "  Downloading opt_einsum-3.3.0-py3-none-any.whl (65 kB)\n",
      "\u001b[2K     \u001b[38;2;114;156;31m━━━━━━━━━━━━━━━━━━━━━━━━━━━━━━━━━━━━━━━━\u001b[0m \u001b[32m65.5/65.5 kB\u001b[0m \u001b[31m1.9 MB/s\u001b[0m eta \u001b[36m0:00:00\u001b[0m\n",
      "\u001b[?25hCollecting protobuf!=4.21.0,!=4.21.1,!=4.21.2,!=4.21.3,!=4.21.4,!=4.21.5,<5.0.0dev,>=3.20.3 (from tensorflow->deeptrack)\n",
      "  Downloading protobuf-4.23.4-cp37-abi3-macosx_10_9_universal2.whl (400 kB)\n",
      "\u001b[2K     \u001b[38;2;114;156;31m━━━━━━━━━━━━━━━━━━━━━━━━━━━━━━━━━━━━━━\u001b[0m \u001b[32m400.3/400.3 kB\u001b[0m \u001b[31m11.8 MB/s\u001b[0m eta \u001b[36m0:00:00\u001b[0m\n",
      "\u001b[?25hRequirement already satisfied: setuptools in /Users/joonpark/anaconda3/envs/nica_research/lib/python3.9/site-packages (from tensorflow->deeptrack) (67.8.0)\n",
      "Requirement already satisfied: six>=1.12.0 in /Users/joonpark/anaconda3/envs/nica_research/lib/python3.9/site-packages (from tensorflow->deeptrack) (1.16.0)\n",
      "Collecting termcolor>=1.1.0 (from tensorflow->deeptrack)\n",
      "  Downloading termcolor-2.3.0-py3-none-any.whl (6.9 kB)\n",
      "Collecting typing-extensions<4.6.0,>=3.6.6 (from tensorflow->deeptrack)\n",
      "  Using cached typing_extensions-4.5.0-py3-none-any.whl (27 kB)\n",
      "Collecting wrapt>=1.11.0 (from tensorflow->deeptrack)\n",
      "  Downloading wrapt-1.15.0-cp39-cp39-macosx_10_9_x86_64.whl (35 kB)\n",
      "Collecting grpcio<2.0,>=1.24.3 (from tensorflow->deeptrack)\n",
      "  Downloading grpcio-1.56.0-cp39-cp39-macosx_10_10_universal2.whl (8.9 MB)\n",
      "\u001b[2K     \u001b[38;2;114;156;31m━━━━━━━━━━━━━━━━━━━━━━━━━━━━━━━━━━━━━━━━\u001b[0m \u001b[32m8.9/8.9 MB\u001b[0m \u001b[31m25.9 MB/s\u001b[0m eta \u001b[36m0:00:00\u001b[0mm eta \u001b[36m0:00:01\u001b[0m[36m0:00:01\u001b[0m\n",
      "\u001b[?25hCollecting tensorboard<2.14,>=2.13 (from tensorflow->deeptrack)\n",
      "  Downloading tensorboard-2.13.0-py3-none-any.whl (5.6 MB)\n",
      "\u001b[2K     \u001b[38;2;114;156;31m━━━━━━━━━━━━━━━━━━━━━━━━━━━━━━━━━━━━━━━━\u001b[0m \u001b[32m5.6/5.6 MB\u001b[0m \u001b[31m38.2 MB/s\u001b[0m eta \u001b[36m0:00:00\u001b[0mm eta \u001b[36m0:00:01\u001b[0m0:01\u001b[0m\n",
      "\u001b[?25hCollecting tensorflow-estimator<2.14,>=2.13.0 (from tensorflow->deeptrack)\n",
      "  Downloading tensorflow_estimator-2.13.0-py2.py3-none-any.whl (440 kB)\n",
      "\u001b[2K     \u001b[38;2;114;156;31m━━━━━━━━━━━━━━━━━━━━━━━━━━━━━━━━━━━━━━\u001b[0m \u001b[32m440.8/440.8 kB\u001b[0m \u001b[31m12.7 MB/s\u001b[0m eta \u001b[36m0:00:00\u001b[0m\n",
      "\u001b[?25hCollecting keras<2.14,>=2.13.1 (from tensorflow->deeptrack)\n",
      "  Downloading keras-2.13.1-py3-none-any.whl (1.7 MB)\n",
      "\u001b[2K     \u001b[38;2;114;156;31m━━━━━━━━━━━━━━━━━━━━━━━━━━━━━━━━━━━━━━━━\u001b[0m \u001b[32m1.7/1.7 MB\u001b[0m \u001b[31m29.7 MB/s\u001b[0m eta \u001b[36m0:00:00\u001b[0mm eta \u001b[36m0:00:01\u001b[0m\n",
      "\u001b[?25hCollecting tensorflow-io-gcs-filesystem>=0.23.1 (from tensorflow->deeptrack)\n",
      "  Downloading tensorflow_io_gcs_filesystem-0.32.0-cp39-cp39-macosx_10_14_x86_64.whl (1.7 MB)\n",
      "\u001b[2K     \u001b[38;2;114;156;31m━━━━━━━━━━━━━━━━━━━━━━━━━━━━━━━━━━━━━━━━\u001b[0m \u001b[32m1.7/1.7 MB\u001b[0m \u001b[31m29.5 MB/s\u001b[0m eta \u001b[36m0:00:00\u001b[0mm eta \u001b[36m0:00:01\u001b[0m\n",
      "\u001b[?25hCollecting typeguard<3.0.0,>=2.7 (from tensorflow-addons->deeptrack)\n",
      "  Using cached typeguard-2.13.3-py3-none-any.whl (17 kB)\n",
      "Collecting array-record (from tensorflow-datasets->deeptrack)\n",
      "  Downloading array_record-0.4.0-py39-none-any.whl (3.0 MB)\n",
      "\u001b[2K     \u001b[38;2;114;156;31m━━━━━━━━━━━━━━━━━━━━━━━━━━━━━━━━━━━━━━━━\u001b[0m \u001b[32m3.0/3.0 MB\u001b[0m \u001b[31m31.2 MB/s\u001b[0m eta \u001b[36m0:00:00\u001b[0mm eta \u001b[36m0:00:01\u001b[0m0:01\u001b[0m\n",
      "\u001b[?25hRequirement already satisfied: click in /Users/joonpark/anaconda3/envs/nica_research/lib/python3.9/site-packages (from tensorflow-datasets->deeptrack) (8.0.4)\n",
      "Collecting dm-tree (from tensorflow-datasets->deeptrack)\n",
      "  Downloading dm_tree-0.1.8-cp39-cp39-macosx_10_9_x86_64.whl (115 kB)\n",
      "\u001b[2K     \u001b[38;2;114;156;31m━━━━━━━━━━━━━━━━━━━━━━━━━━━━━━━━━━━━━━━\u001b[0m \u001b[32m115.4/115.4 kB\u001b[0m \u001b[31m3.9 MB/s\u001b[0m eta \u001b[36m0:00:00\u001b[0m\n",
      "\u001b[?25hCollecting etils[enp,epath]>=0.9.0 (from tensorflow-datasets->deeptrack)\n",
      "  Downloading etils-1.3.0-py3-none-any.whl (126 kB)\n",
      "\u001b[2K     \u001b[38;2;114;156;31m━━━━━━━━━━━━━━━━━━━━━━━━━━━━━━━━━━━━━━━\u001b[0m \u001b[32m126.4/126.4 kB\u001b[0m \u001b[31m3.7 MB/s\u001b[0m eta \u001b[36m0:00:00\u001b[0m\n",
      "\u001b[?25hCollecting promise (from tensorflow-datasets->deeptrack)\n",
      "  Using cached promise-2.3.tar.gz (19 kB)\n",
      "  Preparing metadata (setup.py) ... \u001b[?25ldone\n",
      "\u001b[?25hRequirement already satisfied: psutil in /Users/joonpark/anaconda3/envs/nica_research/lib/python3.9/site-packages (from tensorflow-datasets->deeptrack) (5.9.5)\n",
      "Requirement already satisfied: requests>=2.19.0 in /Users/joonpark/anaconda3/envs/nica_research/lib/python3.9/site-packages (from tensorflow-datasets->deeptrack) (2.29.0)\n",
      "Collecting tensorflow-metadata (from tensorflow-datasets->deeptrack)\n",
      "  Using cached tensorflow_metadata-1.13.1-py3-none-any.whl (28 kB)\n",
      "Collecting toml (from tensorflow-datasets->deeptrack)\n",
      "  Using cached toml-0.10.2-py2.py3-none-any.whl (16 kB)\n",
      "Requirement already satisfied: decorator in /Users/joonpark/anaconda3/envs/nica_research/lib/python3.9/site-packages (from tensorflow-probability->deeptrack) (5.1.1)\n",
      "Requirement already satisfied: cloudpickle>=1.3 in /Users/joonpark/anaconda3/envs/nica_research/lib/python3.9/site-packages (from tensorflow-probability->deeptrack) (2.2.1)\n",
      "Requirement already satisfied: wheel<1.0,>=0.23.0 in /Users/joonpark/anaconda3/envs/nica_research/lib/python3.9/site-packages (from astunparse>=1.6.0->tensorflow->deeptrack) (0.38.4)\n",
      "Collecting importlib_resources (from etils[enp,epath]>=0.9.0->tensorflow-datasets->deeptrack)\n",
      "  Downloading importlib_resources-6.0.0-py3-none-any.whl (31 kB)\n",
      "Requirement already satisfied: zipp in /Users/joonpark/anaconda3/envs/nica_research/lib/python3.9/site-packages (from etils[enp,epath]>=0.9.0->tensorflow-datasets->deeptrack) (3.16.0)\n",
      "Requirement already satisfied: MarkupSafe>=2.0 in /Users/joonpark/anaconda3/envs/nica_research/lib/python3.9/site-packages (from Jinja2>=2.10->numpydoc->deeptrack) (2.1.1)\n",
      "Requirement already satisfied: charset-normalizer<4,>=2 in /Users/joonpark/anaconda3/envs/nica_research/lib/python3.9/site-packages (from requests>=2.19.0->tensorflow-datasets->deeptrack) (3.1.0)\n",
      "Requirement already satisfied: idna<4,>=2.5 in /Users/joonpark/anaconda3/envs/nica_research/lib/python3.9/site-packages (from requests>=2.19.0->tensorflow-datasets->deeptrack) (3.4)\n",
      "Requirement already satisfied: urllib3<1.27,>=1.21.1 in /Users/joonpark/anaconda3/envs/nica_research/lib/python3.9/site-packages (from requests>=2.19.0->tensorflow-datasets->deeptrack) (1.26.16)\n",
      "Requirement already satisfied: certifi>=2017.4.17 in /Users/joonpark/anaconda3/envs/nica_research/lib/python3.9/site-packages (from requests>=2.19.0->tensorflow-datasets->deeptrack) (2023.5.7)\n",
      "Collecting sphinxcontrib-applehelp (from sphinx>=4.2->numpydoc->deeptrack)\n",
      "  Using cached sphinxcontrib_applehelp-1.0.4-py3-none-any.whl (120 kB)\n",
      "Collecting sphinxcontrib-devhelp (from sphinx>=4.2->numpydoc->deeptrack)\n",
      "  Using cached sphinxcontrib_devhelp-1.0.2-py2.py3-none-any.whl (84 kB)\n",
      "Collecting sphinxcontrib-jsmath (from sphinx>=4.2->numpydoc->deeptrack)\n",
      "  Using cached sphinxcontrib_jsmath-1.0.1-py2.py3-none-any.whl (5.1 kB)\n",
      "Collecting sphinxcontrib-htmlhelp>=2.0.0 (from sphinx>=4.2->numpydoc->deeptrack)\n",
      "  Using cached sphinxcontrib_htmlhelp-2.0.1-py3-none-any.whl (99 kB)\n",
      "Collecting sphinxcontrib-serializinghtml>=1.1.5 (from sphinx>=4.2->numpydoc->deeptrack)\n",
      "  Using cached sphinxcontrib_serializinghtml-1.1.5-py2.py3-none-any.whl (94 kB)\n",
      "Collecting sphinxcontrib-qthelp (from sphinx>=4.2->numpydoc->deeptrack)\n",
      "  Using cached sphinxcontrib_qthelp-1.0.3-py2.py3-none-any.whl (90 kB)\n",
      "Requirement already satisfied: Pygments>=2.13 in /Users/joonpark/anaconda3/envs/nica_research/lib/python3.9/site-packages (from sphinx>=4.2->numpydoc->deeptrack) (2.15.1)\n",
      "Collecting docutils<0.21,>=0.18.1 (from sphinx>=4.2->numpydoc->deeptrack)\n",
      "  Downloading docutils-0.20.1-py3-none-any.whl (572 kB)\n",
      "\u001b[2K     \u001b[38;2;114;156;31m━━━━━━━━━━━━━━━━━━━━━━━━━━━━━━━━━━━━━━\u001b[0m \u001b[32m572.7/572.7 kB\u001b[0m \u001b[31m14.9 MB/s\u001b[0m eta \u001b[36m0:00:00\u001b[0m[36m0:00:01\u001b[0m\n",
      "\u001b[?25hCollecting snowballstemmer>=2.0 (from sphinx>=4.2->numpydoc->deeptrack)\n",
      "  Using cached snowballstemmer-2.2.0-py2.py3-none-any.whl (93 kB)\n",
      "Collecting babel>=2.9 (from sphinx>=4.2->numpydoc->deeptrack)\n",
      "  Using cached Babel-2.12.1-py3-none-any.whl (10.1 MB)\n",
      "Collecting alabaster<0.8,>=0.7 (from sphinx>=4.2->numpydoc->deeptrack)\n",
      "  Using cached alabaster-0.7.13-py3-none-any.whl (13 kB)\n",
      "Collecting imagesize>=1.3 (from sphinx>=4.2->numpydoc->deeptrack)\n",
      "  Using cached imagesize-1.4.1-py2.py3-none-any.whl (8.8 kB)\n",
      "Requirement already satisfied: importlib-metadata>=4.8 in /Users/joonpark/anaconda3/envs/nica_research/lib/python3.9/site-packages (from sphinx>=4.2->numpydoc->deeptrack) (6.8.0)\n",
      "Collecting google-auth<3,>=1.6.3 (from tensorboard<2.14,>=2.13->tensorflow->deeptrack)\n",
      "  Downloading google_auth-2.22.0-py2.py3-none-any.whl (181 kB)\n",
      "\u001b[2K     \u001b[38;2;114;156;31m━━━━━━━━━━━━━━━━━━━━━━━━━━━━━━━━━━━━━━━\u001b[0m \u001b[32m181.8/181.8 kB\u001b[0m \u001b[31m5.6 MB/s\u001b[0m eta \u001b[36m0:00:00\u001b[0m\n",
      "\u001b[?25hCollecting google-auth-oauthlib<1.1,>=0.5 (from tensorboard<2.14,>=2.13->tensorflow->deeptrack)\n",
      "  Downloading google_auth_oauthlib-1.0.0-py2.py3-none-any.whl (18 kB)\n",
      "Collecting markdown>=2.6.8 (from tensorboard<2.14,>=2.13->tensorflow->deeptrack)\n",
      "  Downloading Markdown-3.4.3-py3-none-any.whl (93 kB)\n",
      "\u001b[2K     \u001b[38;2;114;156;31m━━━━━━━━━━━━━━━━━━━━━━━━━━━━━━━━━━━━━━━━\u001b[0m \u001b[32m93.9/93.9 kB\u001b[0m \u001b[31m3.0 MB/s\u001b[0m eta \u001b[36m0:00:00\u001b[0m\n",
      "\u001b[?25hCollecting tensorboard-data-server<0.8.0,>=0.7.0 (from tensorboard<2.14,>=2.13->tensorflow->deeptrack)\n",
      "  Downloading tensorboard_data_server-0.7.1-py3-none-macosx_10_9_x86_64.whl (4.8 MB)\n",
      "\u001b[2K     \u001b[38;2;114;156;31m━━━━━━━━━━━━━━━━━━━━━━━━━━━━━━━━━━━━━━━━\u001b[0m \u001b[32m4.8/4.8 MB\u001b[0m \u001b[31m36.4 MB/s\u001b[0m eta \u001b[36m0:00:00\u001b[0mm eta \u001b[36m0:00:01\u001b[0m[36m0:00:01\u001b[0m\n",
      "\u001b[?25hRequirement already satisfied: werkzeug>=1.0.1 in /Users/joonpark/anaconda3/envs/nica_research/lib/python3.9/site-packages (from tensorboard<2.14,>=2.13->tensorflow->deeptrack) (2.2.3)\n",
      "Collecting googleapis-common-protos<2,>=1.52.0 (from tensorflow-metadata->tensorflow-datasets->deeptrack)\n",
      "  Downloading googleapis_common_protos-1.59.1-py2.py3-none-any.whl (224 kB)\n",
      "\u001b[2K     \u001b[38;2;114;156;31m━━━━━━━━━━━━━━━━━━━━━━━━━━━━━━━━━━━━━━━\u001b[0m \u001b[32m224.5/224.5 kB\u001b[0m \u001b[31m6.5 MB/s\u001b[0m eta \u001b[36m0:00:00\u001b[0m\n",
      "\u001b[?25hCollecting cachetools<6.0,>=2.0.0 (from google-auth<3,>=1.6.3->tensorboard<2.14,>=2.13->tensorflow->deeptrack)\n",
      "  Downloading cachetools-5.3.1-py3-none-any.whl (9.3 kB)\n",
      "Collecting pyasn1-modules>=0.2.1 (from google-auth<3,>=1.6.3->tensorboard<2.14,>=2.13->tensorflow->deeptrack)\n",
      "  Downloading pyasn1_modules-0.3.0-py2.py3-none-any.whl (181 kB)\n",
      "\u001b[2K     \u001b[38;2;114;156;31m━━━━━━━━━━━━━━━━━━━━━━━━━━━━━━━━━━━━━━━\u001b[0m \u001b[32m181.3/181.3 kB\u001b[0m \u001b[31m5.9 MB/s\u001b[0m eta \u001b[36m0:00:00\u001b[0m\n",
      "\u001b[?25hCollecting rsa<5,>=3.1.4 (from google-auth<3,>=1.6.3->tensorboard<2.14,>=2.13->tensorflow->deeptrack)\n",
      "  Downloading rsa-4.9-py3-none-any.whl (34 kB)\n",
      "Collecting requests-oauthlib>=0.7.0 (from google-auth-oauthlib<1.1,>=0.5->tensorboard<2.14,>=2.13->tensorflow->deeptrack)\n",
      "  Using cached requests_oauthlib-1.3.1-py2.py3-none-any.whl (23 kB)\n",
      "Collecting pyasn1<0.6.0,>=0.4.6 (from pyasn1-modules>=0.2.1->google-auth<3,>=1.6.3->tensorboard<2.14,>=2.13->tensorflow->deeptrack)\n",
      "  Downloading pyasn1-0.5.0-py2.py3-none-any.whl (83 kB)\n",
      "\u001b[2K     \u001b[38;2;114;156;31m━━━━━━━━━━━━━━━━━━━━━━━━━━━━━━━━━━━━━━━━\u001b[0m \u001b[32m83.9/83.9 kB\u001b[0m \u001b[31m2.5 MB/s\u001b[0m eta \u001b[36m0:00:00\u001b[0m\n",
      "\u001b[?25hCollecting oauthlib>=3.0.0 (from requests-oauthlib>=0.7.0->google-auth-oauthlib<1.1,>=0.5->tensorboard<2.14,>=2.13->tensorflow->deeptrack)\n",
      "  Downloading oauthlib-3.2.2-py3-none-any.whl (151 kB)\n",
      "\u001b[2K     \u001b[38;2;114;156;31m━━━━━━━━━━━━━━━━━━━━━━━━━━━━━━━━━━━━━━━\u001b[0m \u001b[32m151.7/151.7 kB\u001b[0m \u001b[31m5.1 MB/s\u001b[0m eta \u001b[36m0:00:00\u001b[0m\n",
      "\u001b[?25hBuilding wheels for collected packages: pint, promise\n",
      "  Building wheel for pint (pyproject.toml) ... \u001b[?25ldone\n",
      "\u001b[?25h  Created wheel for pint: filename=Pint-0.19.2-py3-none-any.whl size=231001 sha256=e3dfa0884dae40dfd824e7473059492fdf72394ca21a487756f18ba309f37285\n",
      "  Stored in directory: /Users/joonpark/Library/Caches/pip/wheels/4e/e3/93/6f6e5d37c9887117c3aede19f309becb52e0b461eddbb00270\n",
      "  Building wheel for promise (setup.py) ... \u001b[?25ldone\n",
      "\u001b[?25h  Created wheel for promise: filename=promise-2.3-py3-none-any.whl size=21486 sha256=0f2f8245f64109757ca2fd5fbbc2ad73535a3bf1a723d976706719a14b10190b\n",
      "  Stored in directory: /Users/joonpark/Library/Caches/pip/wheels/e1/e8/83/ddea66100678d139b14bc87692ece57c6a2a937956d2532608\n",
      "Successfully built pint promise\n",
      "Installing collected packages: snowballstemmer, libclang, flatbuffers, dm-tree, wrapt, typing-extensions, typeguard, toml, termcolor, tensorflow-io-gcs-filesystem, tensorflow-estimator, tensorboard-data-server, sphinxcontrib-serializinghtml, sphinxcontrib-qthelp, sphinxcontrib-jsmath, sphinxcontrib-htmlhelp, sphinxcontrib-devhelp, sphinxcontrib-applehelp, pyasn1, protobuf, promise, pint, oauthlib, numpy, keras, importlib_resources, imagesize, grpcio, google-pasta, gast, etils, docutils, cachetools, babel, astunparse, alabaster, absl-py, tensorflow-probability, tensorflow-addons, sphinx, rsa, requests-oauthlib, pyasn1-modules, opt-einsum, markdown, googleapis-common-protos, tensorflow-metadata, numpydoc, google-auth, google-auth-oauthlib, array-record, tensorflow-datasets, tensorboard, tensorflow, deeptrack\n",
      "  Attempting uninstall: typing-extensions\n",
      "    Found existing installation: typing_extensions 4.7.1\n",
      "    Uninstalling typing_extensions-4.7.1:\n",
      "      Successfully uninstalled typing_extensions-4.7.1\n",
      "  Attempting uninstall: numpy\n",
      "    Found existing installation: numpy 1.25.1\n",
      "    Uninstalling numpy-1.25.1:\n",
      "      Successfully uninstalled numpy-1.25.1\n",
      "\u001b[31mERROR: pip's dependency resolver does not currently take into account all the packages that are installed. This behaviour is the source of the following dependency conflicts.\n",
      "zarr-checksum 0.2.9 requires click<9.0.0,>=8.1.3, but you have click 8.0.4 which is incompatible.\u001b[0m\u001b[31m\n",
      "\u001b[0mSuccessfully installed absl-py-1.4.0 alabaster-0.7.13 array-record-0.4.0 astunparse-1.6.3 babel-2.12.1 cachetools-5.3.1 deeptrack-1.5.6 dm-tree-0.1.8 docutils-0.20.1 etils-1.3.0 flatbuffers-23.5.26 gast-0.4.0 google-auth-2.22.0 google-auth-oauthlib-1.0.0 google-pasta-0.2.0 googleapis-common-protos-1.59.1 grpcio-1.56.0 imagesize-1.4.1 importlib_resources-6.0.0 keras-2.13.1 libclang-16.0.0 markdown-3.4.3 numpy-1.24.3 numpydoc-1.5.0 oauthlib-3.2.2 opt-einsum-3.3.0 pint-0.19.2 promise-2.3 protobuf-4.23.4 pyasn1-0.5.0 pyasn1-modules-0.3.0 requests-oauthlib-1.3.1 rsa-4.9 snowballstemmer-2.2.0 sphinx-7.0.1 sphinxcontrib-applehelp-1.0.4 sphinxcontrib-devhelp-1.0.2 sphinxcontrib-htmlhelp-2.0.1 sphinxcontrib-jsmath-1.0.1 sphinxcontrib-qthelp-1.0.3 sphinxcontrib-serializinghtml-1.1.5 tensorboard-2.13.0 tensorboard-data-server-0.7.1 tensorflow-2.13.0 tensorflow-addons-0.21.0 tensorflow-datasets-4.9.2 tensorflow-estimator-2.13.0 tensorflow-io-gcs-filesystem-0.32.0 tensorflow-metadata-1.13.1 tensorflow-probability-0.20.1 termcolor-2.3.0 toml-0.10.2 typeguard-2.13.3 typing-extensions-4.5.0 wrapt-1.15.0\n"
     ]
    }
   ],
   "source": [
    "! pip install deeptrack"
   ]
  },
  {
   "cell_type": "code",
   "execution_count": 3,
   "metadata": {},
   "outputs": [
    {
     "name": "stdout",
     "output_type": "stream",
     "text": [
      "Collecting charset-normalizer==3.1.0\n",
      "  Downloading charset_normalizer-3.1.0-cp39-cp39-macosx_10_9_x86_64.whl (124 kB)\n",
      "\u001b[2K     \u001b[38;2;114;156;31m━━━━━━━━━━━━━━━━━━━━━━━━━━━━━━━━━━━━━━━\u001b[0m \u001b[32m124.7/124.7 kB\u001b[0m \u001b[31m2.3 MB/s\u001b[0m eta \u001b[36m0:00:00\u001b[0m[36m0:00:01\u001b[0m\n",
      "\u001b[?25hInstalling collected packages: charset-normalizer\n",
      "  Attempting uninstall: charset-normalizer\n",
      "    Found existing installation: charset-normalizer 2.0.4\n",
      "    Uninstalling charset-normalizer-2.0.4:\n",
      "      Successfully uninstalled charset-normalizer-2.0.4\n",
      "Successfully installed charset-normalizer-3.1.0\n"
     ]
    }
   ],
   "source": [
    "! pip install --force-reinstall charset-normalizer==3.1.0"
   ]
  },
  {
   "cell_type": "code",
   "execution_count": 109,
   "metadata": {},
   "outputs": [],
   "source": [
    "#how to read from the file path??\n",
    "\n",
    "def rototranslate(translate, rotate, input):\n",
    "        # if isinstance(image, np.array):\n",
    "        #     input = image.numpy()\n",
    "\n",
    "        cr = np.cos(rotate)\n",
    "        sr = np.sin(rotate)\n",
    "\n",
    "        mapping = np.array([[cr, sr], [-sr, cr]])\n",
    "\n",
    "        dx, dy = translate\n",
    "        \n",
    "        shape = input.shape\n",
    "        center = np.array(shape[:2]) / 2\n",
    "\n",
    "        d = center - np.dot(mapping, center) - np.array([dy, dx])\n",
    "        # print(mapping)\n",
    "\n",
    "        new_image = scipy.ndimage.affine_transform(\n",
    "                input=input,\n",
    "                matrix=mapping,\n",
    "                offset=d\n",
    "            )\n",
    "        return new_image\n",
    "\n",
    "#For now, hardfix the batch_si\n",
    "#this should create rototranslations within the constructor and getitem should just index\n",
    "class RotationData(Dataset):\n",
    "    def __init__(self, img_path, set_size, transform) -> None:\n",
    "        # super().__init__()\n",
    "        self.img_path = img_path #img path within the current working directory\n",
    "        self.transform = transform\n",
    "        self.set_size = set_size\n",
    "\n",
    "        img_name = os.path.join(os.getcwd(), self.img_path)\n",
    "        img = io.imread(img_name)\n",
    "        # print(type(img))\n",
    "        # img = np.load(img_name, allow_pickle=True)\n",
    "        # if len(img.shape) > 1:\n",
    "        #     img = skimage.color.rgb2gray(img)\n",
    "\n",
    "\n",
    "    #dataset is a list of \n",
    "    ## Guess: dataloader accesses getitem in order to get batches\n",
    "    # a batch [samples x batchsize]\n",
    "        self.param_list = [(np.random.randint(-2, 2), np.random.randint(-2, 2),  np.pi * np.random.rand()) for i in range(set_size)]\n",
    "        self.image_list = [rototranslate((dx, dy), theta, img) for dx, dy, theta in self.param_list]\n",
    "\n",
    "    def __len__(self):\n",
    "         return int(self.set_size)\n",
    "    def __getitem__(self, index):\n",
    "        \n",
    "        #output a list of [dx, dy, theta] tuples,\n",
    "        sample = {'xytheta' : self.param_list[index], 'image': self.image_list[index]}\n",
    "        if self.transform:\n",
    "            sample = self.transform(sample)\n",
    "        return sample\n",
    "\n",
    "    "
   ]
  },
  {
   "cell_type": "markdown",
   "metadata": {},
   "source": []
  },
  {
   "cell_type": "code",
   "execution_count": 127,
   "metadata": {},
   "outputs": [],
   "source": [
    "class GaussianNoise(object):\n",
    "    def __init__(\n",
    "        self, mu = 0, sigma = 1, **kwargs\n",
    "    ):\n",
    "        self.mu = mu\n",
    "        self.sigma = sigma\n",
    "    def __call__(self, sample):\n",
    "        # assert isinstance(sample['image'], np.ndarray)\n",
    "        noisy_image = self.mu + sample['image'] + np.random.randn(*sample['image'].shape) * self.sigma\n",
    "        return {'xytheta': sample['xytheta'], 'image' : noisy_image}\n",
    "    \n",
    "\n",
    "class ToTensor(object):\n",
    "    \"\"\"Convert ndarrays in sample to Tensors.\"\"\"\n",
    "\n",
    "    def __call__(self, sample):\n",
    "        image = sample['image']\n",
    "\n",
    "        # swap color axis because\n",
    "        # numpy image: H x W x C\n",
    "        # torch image: C x H x W\n",
    "        # image = image.transpose((2, 0, 1))\n",
    "        #OUR IMAGES ARE GRAYSCALE!!!\n",
    "        return {'xytheta': torch.tensor(list(sample['xytheta'])), 'image': torch.from_numpy(image)}"
   ]
  },
  {
   "cell_type": "code",
   "execution_count": 128,
   "metadata": {},
   "outputs": [
    {
     "name": "stdout",
     "output_type": "stream",
     "text": [
      "(0, 1, 1.9325115458207558)\n",
      "(0, 1, 1.5913397111401613)\n",
      "(1, -2, 1.361292750219365)\n",
      "(0, -2, 1.929882666102362)\n"
     ]
    }
   ],
   "source": [
    "##How are batches actually creates in the dataloader??\n",
    "rotated_cell_data = RotationData('img/t1763.tif', 20, transform = transforms.Compose([GaussianNoise(), ToTensor()]))\n",
    "dataloader = DataLoader(rotated_cell_data, batch_size=4,\n",
    "                        shuffle=True, num_workers=0)\n",
    "# for i_batch, sample_batched in enumerate(dataloader):\n",
    "#     print(sample_batched['image'].size())\n",
    "sample = next(iter(dataloader))"
   ]
  },
  {
   "cell_type": "code",
   "execution_count": 129,
   "metadata": {},
   "outputs": [
    {
     "data": {
      "text/plain": [
       "tensor([0.0000, 1.0000, 1.9325])"
      ]
     },
     "execution_count": 129,
     "metadata": {},
     "output_type": "execute_result"
    }
   ],
   "source": [
    "sample['xytheta'][0]"
   ]
  },
  {
   "cell_type": "code",
   "execution_count": 130,
   "metadata": {},
   "outputs": [
    {
     "data": {
      "text/plain": [
       "tensor([[-1.4435,  1.9731,  0.3305,  ..., -0.0173, -0.9157,  1.4756],\n",
       "        [ 0.6543, -1.4119,  0.5597,  ..., -0.5847, -0.3093, -2.5730],\n",
       "        [ 0.2625,  1.2598,  1.9393,  ..., -0.9514,  1.6548, -0.6716],\n",
       "        ...,\n",
       "        [ 1.1461,  0.2316, -0.2701,  ...,  1.7855,  0.4403, -0.4194],\n",
       "        [ 0.3011,  0.0051, -0.4645,  ..., -0.0991, -1.0886,  0.1463],\n",
       "        [ 0.5655, -2.6412, -0.1762,  ..., -0.4439,  1.2169, -1.8846]],\n",
       "       dtype=torch.float64)"
      ]
     },
     "execution_count": 130,
     "metadata": {},
     "output_type": "execute_result"
    }
   ],
   "source": [
    "sample['image'][0]"
   ]
  },
  {
   "cell_type": "code",
   "execution_count": 62,
   "metadata": {},
   "outputs": [
    {
     "name": "stdout",
     "output_type": "stream",
     "text": [
      "<class 'numpy.ndarray'>\n"
     ]
    }
   ],
   "source": [
    "rotated_cell_data = RotationData('img/t1763.tif', 8, transform = transforms.Compose([]))\n"
   ]
  },
  {
   "cell_type": "code",
   "execution_count": 60,
   "metadata": {},
   "outputs": [
    {
     "data": {
      "image/png": "[encoded data removed]",
      "text/plain": [
       "<Figure size 640x480 with 4 Axes>"
      ]
     },
     "metadata": {},
     "output_type": "display_data"
    }
   ],
   "source": [
    "def show_images(ax, **kwargs):\n",
    "    for i, img in enumerate(kwargs['image']):\n",
    "        plt.imshow(img)\n",
    "    \n",
    "\n",
    "#returns a single batch\n",
    "for i, sample in enumerate(rotated_cell_data):\n",
    "    ax = plt.subplot(1, 4, i + 1)\n",
    "    plt.tight_layout()\n",
    "    # ax.set_title(sample['rotation_translation'])\n",
    "    ax.axis('off')\n",
    "    show_images(ax, **sample)\n",
    "    # plt.imshow(sample['image'])\n",
    "\n",
    "    if i == 3:\n",
    "        plt.show()\n",
    "        break"
   ]
  },
  {
   "cell_type": "code",
   "execution_count": null,
   "metadata": {},
   "outputs": [],
   "source": []
  },
  {
   "cell_type": "code",
   "execution_count": null,
   "metadata": {},
   "outputs": [],
   "source": [
    "\n"
   ]
  },
  {
   "cell_type": "code",
   "execution_count": null,
   "metadata": {},
   "outputs": [],
   "source": [
    "\n",
    "\n",
    "\n",
    "# Helper function to show a batch\n",
    "def show_landmarks_batch(sample_batched):\n",
    "    \"\"\"Show image with landmarks for a batch of samples.\"\"\"\n",
    "    images_batch, landmarks_batch = \\\n",
    "            sample_batched['image'], sample_batched['landmarks']\n",
    "    batch_size = len(images_batch)\n",
    "    im_size = images_batch.size(2)\n",
    "    grid_border_size = 2\n",
    "\n",
    "    grid = utils.make_grid(images_batch)\n",
    "    plt.imshow(grid.numpy().transpose((1, 2, 0)))\n",
    "\n",
    "    for i in range(batch_size):\n",
    "        plt.scatter(landmarks_batch[i, :, 0].numpy() + i * im_size + (i + 1) * grid_border_size,\n",
    "                    landmarks_batch[i, :, 1].numpy() + grid_border_size,\n",
    "                    s=10, marker='.', c='r')\n",
    "\n",
    "        plt.title('Batch from dataloader')\n",
    "\n",
    "for i, sample in enumerate(rotated_cell_data):\n",
    "    # print(i, sample['rotation_translation'], sample['image'])\n",
    "\n",
    "    ax = plt.subplot(1, 4, i + 1)\n",
    "    plt.tight_layout()\n",
    "    ax.set_title('Sample #{}'.format(i))\n",
    "    ax.axis('off')\n",
    "    # show_landmarks(**sample)\n",
    "    plt.imshow()\n",
    "\n",
    "    if i == 3:\n",
    "        plt.show()\n",
    "        break"
   ]
  },
  {
   "cell_type": "code",
   "execution_count": null,
   "metadata": {},
   "outputs": [],
   "source": []
  }
 ],
 "metadata": {
  "kernelspec": {
   "display_name": "nica_research",
   "language": "python",
   "name": "python3"
  },
  "language_info": {
   "codemirror_mode": {
    "name": "ipython",
    "version": 3
   },
   "file_extension": ".py",
   "mimetype": "text/x-python",
   "name": "python",
   "nbconvert_exporter": "python",
   "pygments_lexer": "ipython3",
   "version": "3.9.17"
  },
  "orig_nbformat": 4
 },
 "nbformat": 4,
 "nbformat_minor": 2
}
