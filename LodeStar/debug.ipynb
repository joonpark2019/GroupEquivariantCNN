{
 "cells": [
  {
   "cell_type": "code",
   "execution_count": 1,
   "metadata": {},
   "outputs": [],
   "source": [
    "import numpy as np\n",
    "import torch\n",
    "import torch.nn as nn\n",
    "import torch.nn.functional as F"
   ]
  },
  {
   "cell_type": "code",
   "execution_count": 40,
   "metadata": {},
   "outputs": [],
   "source": [
    "\n",
    "\n",
    "#https://jimmy-ai.tistory.com/98\n",
    "\n",
    "def input_map(N, M):\n",
    "    i = np.arange(0, M)\n",
    "    i = torch.from_numpy(np.tile(i, N).reshape(N,M))\n",
    "\n",
    "    j = np.arange(0, N)\n",
    "    j = torch.from_numpy(np.repeat(j[:, np.newaxis], repeats=M, axis=1))\n",
    "    ##Q: should this get any gradient??\n",
    "\n",
    "    return i, j\n",
    "\n",
    "#input needs to be (C, H, W) --> can't be (N, C, H, W) at the moment\n",
    "def output(nn_output, N, M):\n",
    "    i, j = input_map(N, M)\n",
    "    xy = torch.zeros(3, N, M)\n",
    "    assert xy.shape[0] is nn_output.shape[0]\n",
    "    assert xy.shape[1] is nn_output.shape[1]\n",
    "    assert xy.shape[2] is nn_output.shape[2]\n",
    "\n",
    "    xy[0,:] = nn_output[0, :] + 2*i\n",
    "    xy[0,:] = nn_output[0, :] - N\n",
    "    xy[1,:] = nn_output[1, :] + 2*j\n",
    "    xy[1,:] = nn_output[1, :] - M\n",
    "    w = F.sigmoid(nn_output[2,:])\n",
    "\n",
    "    return xy, w\n",
    "\n",
    "#input: (N, C, H, W) / output: ()\n",
    "def posAndWeights(eps = 0.01, N, M):\n",
    "    \n"
   ]
  },
  {
   "cell_type": "code",
   "execution_count": null,
   "metadata": {},
   "outputs": [],
   "source": [
    "class Model(nn.Module):\n",
    "    def __init__(self, N, M):\n",
    "        self.N = N\n",
    "        self.M = M\n",
    "        self.conv_1 = nn.Sequential(nn.Conv2d(3, ), nn.Conv2d, nn.ReLU()) #input image\n",
    "        self.max_pool_1 = None\n",
    "        self.conv_2 = None\n",
    "        self.max_pool_2 = None\n",
    "        self.conv_3 = None\n",
    "    \n",
    "    def forward(self, x):\n",
    "        x = self.conv_1(x)\n",
    "        x  = self.max_pool_1(x)\n",
    "        x = self.conv_2(x)\n",
    "        x = self.max_pool_2(x)\n",
    "        x = self.conv_3(x)\n",
    "        (x,y), weights = pos_and_weights(self.N, self.M, ) #The input is (batch_size, channels, height, width)\n",
    "        return (x,y), weights\n"
   ]
  },
  {
   "cell_type": "code",
   "execution_count": 41,
   "metadata": {},
   "outputs": [
    {
     "name": "stdout",
     "output_type": "stream",
     "text": [
      "tensor([[[0.4753, 0.0548, 0.6200, 0.0243, 0.5789, 0.7113],\n",
      "         [0.6189, 0.2085, 0.2705, 0.8380, 0.7591, 0.3516],\n",
      "         [0.3912, 0.3805, 0.1555, 0.0531, 0.0227, 0.1696],\n",
      "         [0.6540, 0.8013, 0.6490, 0.8602, 0.2465, 0.6651]],\n",
      "\n",
      "        [[0.1847, 0.3212, 0.3944, 0.0022, 0.2355, 0.3758],\n",
      "         [0.3667, 0.6992, 0.9157, 0.9147, 0.4202, 0.8809],\n",
      "         [0.6387, 0.5754, 0.2675, 0.1856, 0.0536, 0.5171],\n",
      "         [0.5829, 0.9551, 0.9153, 0.6102, 0.4462, 0.6721]],\n",
      "\n",
      "        [[0.0862, 0.7570, 0.2323, 0.7459, 0.8178, 0.3280],\n",
      "         [0.9236, 0.6708, 0.4433, 0.3025, 0.6677, 0.0623],\n",
      "         [0.2492, 0.6073, 0.6662, 0.9061, 0.9886, 0.6675],\n",
      "         [0.1777, 0.2260, 0.3555, 0.2008, 0.0625, 0.4941]]])\n",
      "tensor([[[-3.5247, -3.9452, -3.3800, -3.9757, -3.4211, -3.2887],\n",
      "         [-3.3811, -3.7915, -3.7295, -3.1620, -3.2409, -3.6484],\n",
      "         [-3.6088, -3.6195, -3.8445, -3.9469, -3.9773, -3.8304],\n",
      "         [-3.3460, -3.1987, -3.3510, -3.1398, -3.7535, -3.3349]],\n",
      "\n",
      "        [[-5.8153, -5.6788, -5.6056, -5.9978, -5.7645, -5.6242],\n",
      "         [-5.6333, -5.3008, -5.0843, -5.0853, -5.5798, -5.1191],\n",
      "         [-5.3613, -5.4246, -5.7325, -5.8144, -5.9464, -5.4829],\n",
      "         [-5.4171, -5.0449, -5.0847, -5.3898, -5.5538, -5.3279]],\n",
      "\n",
      "        [[ 0.0000,  0.0000,  0.0000,  0.0000,  0.0000,  0.0000],\n",
      "         [ 0.0000,  0.0000,  0.0000,  0.0000,  0.0000,  0.0000],\n",
      "         [ 0.0000,  0.0000,  0.0000,  0.0000,  0.0000,  0.0000],\n",
      "         [ 0.0000,  0.0000,  0.0000,  0.0000,  0.0000,  0.0000]]])\n",
      "tensor([[0.5215, 0.6807, 0.5578, 0.6783, 0.6938, 0.5813],\n",
      "        [0.7158, 0.6617, 0.6091, 0.5751, 0.6610, 0.5156],\n",
      "        [0.5620, 0.6473, 0.6607, 0.7122, 0.7288, 0.6609],\n",
      "        [0.5443, 0.5562, 0.5880, 0.5500, 0.5156, 0.6211]])\n"
     ]
    }
   ],
   "source": [
    "nn_output = torch.rand(3, 4, 6) #output should be (2,3)\n",
    "print(nn_output)\n",
    "# print(nn_output[0, :])\n",
    "xy, w = output(nn_output, int(nn_output.shape[1]), int(nn_output.shape[2]))\n",
    "print(xy)\n",
    "print(w)"
   ]
  },
  {
   "cell_type": "code",
   "execution_count": 30,
   "metadata": {},
   "outputs": [
    {
     "name": "stdout",
     "output_type": "stream",
     "text": [
      "i:  tensor([[0, 1, 2, 3, 4, 5, 6],\n",
      "        [0, 1, 2, 3, 4, 5, 6],\n",
      "        [0, 1, 2, 3, 4, 5, 6],\n",
      "        [0, 1, 2, 3, 4, 5, 6],\n",
      "        [0, 1, 2, 3, 4, 5, 6],\n",
      "        [0, 1, 2, 3, 4, 5, 6]])\n",
      "*************\n",
      "j:  tensor([[0, 0, 0, 0, 0, 0, 0],\n",
      "        [1, 1, 1, 1, 1, 1, 1],\n",
      "        [2, 2, 2, 2, 2, 2, 2],\n",
      "        [3, 3, 3, 3, 3, 3, 3],\n",
      "        [4, 4, 4, 4, 4, 4, 4],\n",
      "        [5, 5, 5, 5, 5, 5, 5]])\n"
     ]
    }
   ],
   "source": [
    "i, j = input_map(6,7)\n",
    "print(\"i: \", i)\n",
    "print(\"*************\")\n",
    "print(\"j: \", j)"
   ]
  },
  {
   "cell_type": "code",
   "execution_count": 2,
   "metadata": {},
   "outputs": [
    {
     "name": "stdout",
     "output_type": "stream",
     "text": [
      "tensor([[[8.6771e-01, 7.9029e-01, 7.8641e-01, 3.8833e-01],\n",
      "         [4.6045e-01, 5.1525e-02, 9.0832e-01, 6.8435e-01],\n",
      "         [1.6388e-01, 6.5436e-01, 1.4983e-01, 9.8420e-01],\n",
      "         [7.4212e-01, 3.1308e-02, 6.7640e-01, 4.4585e-01]],\n",
      "\n",
      "        [[9.8540e-01, 1.7157e-02, 7.1339e-01, 8.5872e-01],\n",
      "         [1.4750e-01, 2.6105e-01, 6.1658e-01, 7.6477e-01],\n",
      "         [4.1442e-01, 9.7600e-01, 9.1025e-01, 1.2070e-01],\n",
      "         [6.2598e-01, 5.5999e-01, 1.2705e-01, 2.4614e-01]],\n",
      "\n",
      "        [[9.7193e-01, 8.1117e-01, 7.6475e-02, 3.7051e-01],\n",
      "         [1.9073e-01, 9.5463e-04, 8.6409e-01, 3.6654e-01],\n",
      "         [9.2579e-01, 9.0983e-01, 8.9691e-01, 3.6096e-01],\n",
      "         [7.8492e-01, 7.7396e-01, 4.3907e-01, 6.9854e-01]]])\n"
     ]
    }
   ],
   "source": [
    "xy = torch.rand(3, 4,4)\n",
    "print(xy)"
   ]
  },
  {
   "cell_type": "code",
   "execution_count": null,
   "metadata": {},
   "outputs": [],
   "source": []
  }
 ],
 "metadata": {
  "kernelspec": {
   "display_name": "nica_research",
   "language": "python",
   "name": "python3"
  },
  "language_info": {
   "codemirror_mode": {
    "name": "ipython",
    "version": 3
   },
   "file_extension": ".py",
   "mimetype": "text/x-python",
   "name": "python",
   "nbconvert_exporter": "python",
   "pygments_lexer": "ipython3",
   "version": "3.9.17"
  },
  "orig_nbformat": 4
 },
 "nbformat": 4,
 "nbformat_minor": 2
}
